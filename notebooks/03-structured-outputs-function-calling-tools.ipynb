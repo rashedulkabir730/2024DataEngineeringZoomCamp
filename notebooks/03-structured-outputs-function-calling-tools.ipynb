{
  "cells": [
    {
      "cell_type": "markdown",
      "id": "ed0cc784",
      "metadata": {
        "id": "ed0cc784"
      },
      "source": [
        "[![Open In Colab](https://colab.research.google.com/assets/colab-badge.svg)](https://colab.research.google.com/github/philschmid/gemini-2.5-ai-engineering-workshop/blob/main/notebooks/03-structured-outputs-function-calling-tools.ipynb)\n",
        "\n",
        "# Part 3: Structured Outputs, Function Calling & Native Tools\n",
        "\n",
        "This section covers three powerful capabilities of the Gemini API: structured outputs for extracting information into defined schemas, function calling for connecting to external tools and APIs, and native tools like Google Search for enhanced capabilities."
      ]
    },
    {
      "cell_type": "code",
      "execution_count": 2,
      "id": "e562211b",
      "metadata": {
        "id": "e562211b"
      },
      "outputs": [],
      "source": [
        "from google import genai\n",
        "from google.genai import types\n",
        "from pydantic import BaseModel\n",
        "from typing import List, Optional\n",
        "import sys\n",
        "import os\n",
        "from IPython.display import Image, Markdown\n",
        "\n",
        "IN_COLAB = 'google.colab' in sys.modules\n",
        "\n",
        "if IN_COLAB:\n",
        "    from google.colab import userdata\n",
        "    GEMINI_API_KEY = userdata.get('GOOGLE_API_KEY')\n",
        "else:\n",
        "    GEMINI_API_KEY = os.environ.get('GOOGLE_API_KEY',None)\n",
        "\n",
        "# Create client with api key\n",
        "MODEL_ID = \"gemini-2.5-flash-preview-05-20\"\n",
        "client = genai.Client(api_key=GEMINI_API_KEY)"
      ]
    },
    {
      "cell_type": "markdown",
      "id": "b98ebd5b",
      "metadata": {
        "id": "b98ebd5b"
      },
      "source": [
        "## 1. Structured Outputs\n",
        "\n",
        "Structured outputs allow you to constrain Gemini to respond with JSON in a specific format instead of unstructured text. This is essential for:\n",
        "- **Data extraction**: Converting unstructured text into structured data\n",
        "- **API integration**: Getting consistent formats for downstream processing  \n",
        "- **Database insertion**: Ensuring data matches your schema requirements\n",
        "- **Quality control**: Validating that responses contain required fields"
      ]
    },
    {
      "cell_type": "code",
      "execution_count": null,
      "id": "66a5ac27",
      "metadata": {
        "id": "66a5ac27",
        "outputId": "65e63b0a-9ebe-4c79-fa3a-0ed103161f3d",
        "colab": {
          "base_uri": "https://localhost:8080/"
        }
      },
      "outputs": [
        {
          "output_type": "stream",
          "name": "stdout",
          "text": [
            "Recipe: Classic Chocolate Chip Cookies\n",
            "Ingredients: ['1 1/2 cups all-purpose flour', '1 teaspoon baking soda', '1/2 teaspoon salt', '1 cup (2 sticks) unsalted butter, softened', '1/2 cup granulated sugar', '1 cup packed light brown sugar', '2 large eggs', '1 teaspoon vanilla extract', '2 cups chocolate chips']\n",
            "Prep Time: 20 minutes\n",
            "Difficulty: Easy\n",
            "Servings: 24\n",
            "\n",
            "\n",
            "Recipe: Chewy Oatmeal Raisin Cookies\n",
            "Ingredients: ['1 1/2 cups all-purpose flour', '1 teaspoon baking soda', '1 teaspoon ground cinnamon', '1/2 teaspoon salt', '1 cup (2 sticks) unsalted butter, softened', '1/2 cup granulated sugar', '1 cup packed light brown sugar', '2 large eggs', '1 teaspoon vanilla extract', '3 cups old-fashioned rolled oats', '1 1/2 cups raisins']\n",
            "Prep Time: 20 minutes\n",
            "Difficulty: Easy\n",
            "Servings: 24\n",
            "\n",
            "\n"
          ]
        }
      ],
      "source": [
        "class Recipe(BaseModel):\n",
        "    recipe_name: str\n",
        "    ingredients: List[str]\n",
        "    prep_time_minutes: int\n",
        "    difficulty: str  # \"easy\", \"medium\", \"hard\"\n",
        "    servings: int\n",
        "\n",
        "class RecipeList(BaseModel):\n",
        "    recipes: List[Recipe]\n",
        "\n",
        "# Using Pydantic models for structured output\n",
        "response = client.models.generate_content(\n",
        "    model=MODEL_ID,\n",
        "    contents=\"Give me 2 popular cookie recipes with ingredients and prep details.\",\n",
        "    config=types.GenerateContentConfig(\n",
        "        response_mime_type=\"application/json\",\n",
        "        response_schema=RecipeList,\n",
        "    ),\n",
        ")\n",
        "\n",
        "# Get structured data directly\n",
        "recipes: List[Recipe] = response.parsed\n",
        "for recipe in recipes.recipes:\n",
        "    print(f\"Recipe: {recipe.recipe_name}\")\n",
        "    print(f\"Ingredients: {recipe.ingredients}\")\n",
        "    print(f\"Prep Time: {recipe.prep_time_minutes} minutes\")\n",
        "    print(f\"Difficulty: {recipe.difficulty}\")\n",
        "    print(f\"Servings: {recipe.servings}\")\n",
        "    print(\"\\n\")"
      ]
    },
    {
      "cell_type": "markdown",
      "id": "11647938",
      "metadata": {
        "id": "11647938"
      },
      "source": [
        "## !! Exercise: PDF to Structured Data !!\n",
        "\n",
        "Extract structured information from a PDF invoice or document using the Files API and structured outputs.\n",
        "\n",
        "Tasks:\n",
        "- A Pydantic schema (`InvoiceItem` and `InvoiceData`) and an example PDF file path (`../assets/data/rewe_invoice.pdf`) are provided. You can use this or replace it with your own PDF invoice.\n",
        "- Upload the PDF file using `client.files.upload()`.\n",
        "- Call `client.models.generate_content()`:\n",
        "- Access the parsed structured data from `response.parsed`."
      ]
    },
    {
      "cell_type": "code",
      "execution_count": null,
      "id": "5cbc0e89",
      "metadata": {
        "id": "5cbc0e89"
      },
      "outputs": [],
      "source": [
        "class InvoiceItem(BaseModel):\n",
        "    item: str\n",
        "    quantity: int\n",
        "    unit_price: float\n",
        "    size: str\n",
        "    total: float\n",
        "\n",
        "class InvoiceData(BaseModel):\n",
        "    invoice_number: str\n",
        "    date: str\n",
        "    vendor_name: str\n",
        "    vendor_address: str\n",
        "    total_amount: float\n",
        "    items: List[InvoiceItem]\n",
        "\n",
        "# Upload a PDF file (replace with your PDF path)\n",
        "pdf_file_path = \"/content/IMG_0283.jpeg\"\n",
        "\n",
        "# TODO:\n",
        "#file_id = client.files.upload(file=pdf_file_path)\n",
        "response = client.models.generate_content(\n",
        "    model=MODEL_ID,\n",
        "    contents=\"Give me all relevent information from the photo. If the information is not available put nan.\",\n",
        "    config=types.GenerateContentConfig(\n",
        "\n",
        "        response_schema=InvoiceData,\n",
        "    ),\n",
        ")\n"
      ]
    },
    {
      "cell_type": "markdown",
      "id": "aaeb2a48",
      "metadata": {
        "id": "aaeb2a48"
      },
      "source": [
        "## 2. Function Calling\n",
        "\n",
        "Function calling allows Gemini to intelligently decide when to call specific functions you define. This enables:\n",
        "- **External API integration**: Connect to weather, stocks, databases\n",
        "- **Dynamic calculations**: Perform real-time computations\n",
        "- **System interaction**: Execute commands or retrieve system information\n",
        "- **Multi-step workflows**: Chain function calls for complex tasks"
      ]
    },
    {
      "cell_type": "code",
      "execution_count": null,
      "id": "8c8862da",
      "metadata": {
        "id": "8c8862da"
      },
      "outputs": [],
      "source": [
        "def get_weather(location: str) -> dict:\n",
        "    \"\"\"Gets current weather for a location.\n",
        "\n",
        "    Args:\n",
        "        location: The city name, e.g. \"San Francisco\"\n",
        "\n",
        "    Returns:\n",
        "        Weather information dictionary\n",
        "    \"\"\"\n",
        "    # Mock weather data - in real use, you'd call a weather API\n",
        "    weather_data = {\n",
        "        \"temperature\": 22,\n",
        "        \"condition\": \"sunny\",\n",
        "        \"humidity\": 60,\n",
        "        \"location\": location,\n",
        "        \"feels_like\": 24\n",
        "    }\n",
        "    print(f\"🌤️ FUNCTION CALLED: get_weather(location='{location}')\")\n",
        "    return weather_data\n",
        "\n",
        "# Define function declarations for the model\n",
        "weather_function = {\n",
        "    \"name\": \"get_weather\",\n",
        "    \"description\": \"Gets current weather for a location\",\n",
        "    \"parameters\": {\n",
        "        \"type\": \"object\",\n",
        "        \"properties\": {\n",
        "            \"location\": {\n",
        "                \"type\": \"string\",\n",
        "                \"description\": \"The city name\"\n",
        "            }\n",
        "        },\n",
        "        \"required\": [\"location\"]\n",
        "    }\n",
        "}\n",
        "tools = [types.Tool(function_declarations=[weather_function])]\n",
        "\n",
        "# Define user prompt\n",
        "contents = [\n",
        "    types.Content(\n",
        "        role=\"user\", parts=[types.Part(text=\"Whats the weather in Tokyo?\")]\n",
        "    )\n",
        "]\n",
        "\n",
        "\n",
        "# Send request with function declarations\n",
        "response = client.models.generate_content(\n",
        "    model=MODEL_ID,\n",
        "    contents=contents,\n",
        "    config=types.GenerateContentConfig(tools=tools)\n",
        ")\n",
        "\n",
        "# Check for function calls\n",
        "function_call = response.candidates[0].content.parts[0].function_call\n",
        "print(f\"Model wants to call: {function_call.name}\")\n",
        "print(f\"With arguments: {dict(function_call.args)}\")"
      ]
    },
    {
      "cell_type": "code",
      "execution_count": null,
      "id": "cd345daf",
      "metadata": {
        "id": "cd345daf"
      },
      "outputs": [],
      "source": [
        "# Execute the function\n",
        "if function_call.name == \"get_weather\":\n",
        "    result = get_weather(**function_call.args)\n",
        "else:\n",
        "    result = {\"error\": \"Unknown function\"}\n",
        "\n",
        "print(f\"Function result: {result}\")\n",
        "\n",
        "# Send function result back to model\n",
        "function_response_part = types.Part.from_function_response(\n",
        "    name=function_call.name,\n",
        "    response={\"result\": result}\n",
        ")\n",
        "# Append function call and result of the function execution to contents\n",
        "contents.append(types.Content(role=\"model\", parts=[types.Part(function_call=function_call)])) # Append the model's function call message\n",
        "contents.append(types.Content(role=\"user\", parts=[function_response_part])) # Append the function response\n",
        "\n",
        "# Get final response\n",
        "final_response = client.models.generate_content(\n",
        "    model=MODEL_ID,\n",
        "    contents=contents,\n",
        "    config=types.GenerateContentConfig(tools=tools)\n",
        ")\n",
        "\n",
        "print(f\"\\nFinal response: {final_response.text}\")"
      ]
    },
    {
      "cell_type": "markdown",
      "id": "353e5fb9",
      "metadata": {
        "id": "353e5fb9"
      },
      "source": [
        "### Automatic Function Calling (Python Only)\n",
        "\n",
        "The Python SDK can automatically handle function execution for you:"
      ]
    },
    {
      "cell_type": "code",
      "execution_count": null,
      "id": "a9d211ce",
      "metadata": {
        "id": "a9d211ce"
      },
      "outputs": [],
      "source": [
        "def calculate_area(length: float, width: float) -> dict:\n",
        "    \"\"\"Calculate the area of a rectangle.\n",
        "\n",
        "    Args:\n",
        "        length: Length of the rectangle\n",
        "        width: Width of the rectangle\n",
        "\n",
        "    Returns:\n",
        "        Price calculations\n",
        "    \"\"\"\n",
        "    area = length * width\n",
        "    print(f\"CALC: {length} × {width} = {area}\")\n",
        "    return {\"operation\": \"area\", \"result\": area}\n",
        "\n",
        "# Using automatic function calling - much simpler!\n",
        "config = types.GenerateContentConfig(\n",
        "    tools=[get_weather, calculate_area]  # Pass functions directly\n",
        ")\n",
        "\n",
        "response = client.models.generate_content(\n",
        "    model=MODEL_ID,\n",
        "    contents=\"What's the weather in Tokyo and what's the area of a 5x3 meter room?\",\n",
        "    config=config\n",
        ")\n",
        "\n",
        "print(response.text)  # SDK handles function calls automatically"
      ]
    },
    {
      "cell_type": "markdown",
      "id": "43b058db",
      "metadata": {
        "id": "43b058db"
      },
      "source": [
        "## !! Exercise: Calculator Agent !!\n",
        "\n",
        "Create a set of calculator functions (add, subtract, multiply, divide) and use Gemini's function calling capability to perform calculations based on natural language prompts.\n",
        "\n",
        "Tasks:\n",
        "- Define Python functions for `add(a: float, b: float)`, `subtract(a: float, b: float)`, `multiply(a: float, b: float)`, and `divide(a: float, b: float)`.\n",
        "- Create a list of these functions (`calculator_tools`).\n",
        "- Test single operations with `client.models.generate_content()`:\n",
        "- Test complex expressions with a prompt for a multi-step calculation (e.g., \"Calculate (25 + 15) * 3 - 10. Do this step by step.\")."
      ]
    },
    {
      "cell_type": "code",
      "execution_count": null,
      "id": "befb76f0",
      "metadata": {
        "id": "befb76f0",
        "outputId": "4de8095d-a894-46d4-ac33-ad0778181793",
        "colab": {
          "base_uri": "https://localhost:8080/"
        }
      },
      "outputs": [
        {
          "output_type": "stream",
          "name": "stdout",
          "text": [
            "CALC: 5 - 2 = 3\n"
          ]
        },
        {
          "output_type": "stream",
          "name": "stderr",
          "text": [
            "WARNING:google_genai.types:Warning: there are non-text parts in the response: ['thought_signature'], returning concatenated text result from text parts. Check the full candidates.content.parts accessor to get the full model response.\n"
          ]
        },
        {
          "output_type": "stream",
          "name": "stdout",
          "text": [
            "The difference between 5 and 2 is 3.\n"
          ]
        }
      ],
      "source": [
        "# TODO:\n",
        "def add(a:float, b:float) -> dict:\n",
        "  sum = a + b\n",
        "  print(f\"CALC: {a} + {b} = {sum}\")\n",
        "  return {\"operation\": \"sum\", \"result\": sum}\n",
        "\n",
        "def subtract(a:float, b:float) -> dict:\n",
        "  difference = a - b\n",
        "  print(f\"CALC: {a} - {b} = {difference}\")\n",
        "  return {\"operation\": \"subtraction\", \"result\": difference}\n",
        "\n",
        "config = types.GenerateContentConfig(\n",
        "    tools=[add, subtract]  # Pass functions directly\n",
        ")\n",
        "\n",
        "response = client.models.generate_content(\n",
        "    model=MODEL_ID,\n",
        "    contents=\"what is the difference of 5 and 2\",\n",
        "    config=config\n",
        ")\n",
        "\n",
        "print(response.text)  # SDK handles function calls automatically"
      ]
    },
    {
      "cell_type": "markdown",
      "id": "656731a4",
      "metadata": {
        "id": "656731a4"
      },
      "source": [
        "## 3. Native Tools\n",
        "\n",
        "Gemini provides native tools for enhanced capabilities like searching the web and analyzing URL content.\n",
        "\n",
        "### Google Search Integration\n",
        "\n",
        "**Use cases:**\n",
        "- Current events and news\n",
        "- Real-time data lookup\n",
        "- Fact verification\n",
        "- Research assistance"
      ]
    },
    {
      "cell_type": "code",
      "execution_count": null,
      "id": "98d8213e",
      "metadata": {
        "id": "98d8213e"
      },
      "outputs": [],
      "source": [
        "# Define Google Search tool\n",
        "google_search_tool = types.Tool(google_search=types.GoogleSearch())\n",
        "\n",
        "# Current events query\n",
        "response = client.models.generate_content(\n",
        "    model=MODEL_ID,\n",
        "    contents=\"What are the latest developments in renewable energy technology in 2025?\",\n",
        "    config=types.GenerateContentConfig(\n",
        "        tools=[google_search_tool],\n",
        "    )\n",
        ")\n",
        "\n",
        "print(\"🔍 Current Renewable Energy News:\")\n",
        "print(response.text)"
      ]
    },
    {
      "cell_type": "markdown",
      "id": "d7fb0b0a",
      "metadata": {
        "id": "d7fb0b0a"
      },
      "source": [
        "### URL Context Tool\n",
        "\n",
        "**Use cases:**\n",
        "- Website content analysis\n",
        "- Documentation summarization\n",
        "- Competitive research\n",
        "- Content extraction"
      ]
    },
    {
      "cell_type": "code",
      "execution_count": null,
      "id": "b290e5a8",
      "metadata": {
        "id": "b290e5a8"
      },
      "outputs": [],
      "source": [
        "# URL context for analyzing specific web pages\n",
        "url_context_tool = types.Tool(url_context=types.UrlContext())\n",
        "\n",
        "response = client.models.generate_content(\n",
        "    model=MODEL_ID,\n",
        "    contents=\"Summarize the key features and benefits mentioned on https://www.python.org/about/ in 3 bullet points.\",\n",
        "    config=types.GenerateContentConfig(\n",
        "        tools=[url_context_tool],\n",
        "    )\n",
        ")\n",
        "\n",
        "print(\"🌐 Python.org Summary:\")\n",
        "print(response.text)"
      ]
    },
    {
      "cell_type": "markdown",
      "id": "25ec8bda",
      "metadata": {
        "id": "25ec8bda"
      },
      "source": [
        "### Code Execution Tool\n",
        "\n",
        "Gemini can execute Python code to perform calculations, create visualizations, and process data."
      ]
    },
    {
      "cell_type": "code",
      "execution_count": null,
      "id": "d3f5c6f8",
      "metadata": {
        "id": "d3f5c6f8",
        "outputId": "d3bfc91f-045b-41d9-b7fc-d67675f6df1c",
        "colab": {
          "base_uri": "https://localhost:8080/",
          "height": 1000
        }
      },
      "outputs": [
        {
          "output_type": "display_data",
          "data": {
            "text/plain": [
              "<IPython.core.display.Markdown object>"
            ],
            "text/markdown": "To create the bar chart, I first need to gather the population data for the 5 largest cities in the world. Population figures can vary based on the source and the definition of \"city\" (e.g., city proper, urban area, metropolitan area). For this chart, I will use widely cited estimates for urban area populations as of recent years.\n\nHere are the 5 largest cities by urban area population and their approximate figures (in millions):\n\n1.  **Tokyo, Japan:** ~37.2 million\n2.  **Delhi, India:** ~32.9 million\n3.  **Shanghai, China:** ~29.2 million\n4.  **Dhaka, Bangladesh:** ~23.2 million\n5.  **São Paulo, Brazil:** ~22.6 million\n\nNow, I will use `matplotlib` to create the bar chart.\n\n"
          },
          "metadata": {}
        },
        {
          "output_type": "display_data",
          "data": {
            "text/plain": [
              "<IPython.core.display.Markdown object>"
            ],
            "text/markdown": "```python\nimport matplotlib.pyplot as plt\n\n# Data for the 5 largest cities\ncities = ['Tokyo', 'Delhi', 'Shanghai', 'Dhaka', 'São Paulo']\npopulations = [37.2, 32.9, 29.2, 23.2, 22.6] # in millions\n\n# Create the bar chart\nplt.figure(figsize=(10, 6)) # Set figure size for better readability\nplt.bar(cities, populations, color='skyblue')\n\n# Add titles and labels\nplt.xlabel('City')\nplt.ylabel('Population (Millions)')\nplt.title('Population of the 5 Largest Cities in the World (Urban Area)')\nplt.ylim(0, 40) # Set y-axis limit for better visualization\n\n# Add value labels on top of the bars\nfor i, pop in enumerate(populations):\n    plt.text(i, pop + 0.5, f'{pop:.1f}', ha='center', va='bottom')\n\n# Display the plot\nplt.grid(axis='y', linestyle='--', alpha=0.7) # Add a grid for better readability\nplt.show()\n```"
          },
          "metadata": {}
        },
        {
          "output_type": "display_data",
          "data": {
            "image/png": "[encoded data removed]",
            "text/plain": [
              "<IPython.core.display.Image object>"
            ]
          },
          "metadata": {
            "image/png": {
              "width": 800
            }
          }
        },
        {
          "output_type": "display_data",
          "data": {
            "text/plain": [
              "<IPython.core.display.Markdown object>"
            ],
            "text/markdown": "The image showing the bar chart of the population of the 5 largest cities in the world has been successfully generated and is available as `output_2025-07-15-19-20-27-205499.png`.\n\nDo you have any further requests or modifications for this chart, or would you like to move on to a new task?"
          },
          "metadata": {}
        }
      ],
      "source": [
        "# Code execution tool\n",
        "code_execution_tool = types.Tool(code_execution={})\n",
        "\n",
        "response = client.models.generate_content(\n",
        "    model=MODEL_ID,\n",
        "    contents=\"Create a bar chart showing the population of the 5 largest cities in the world. Use matplotlib.\",\n",
        "    config=types.GenerateContentConfig(\n",
        "        tools=[code_execution_tool],\n",
        "    )\n",
        ")\n",
        "\n",
        "\n",
        "for p in response.candidates[0].content.parts:\n",
        "    if p.text:\n",
        "        display(Markdown(p.text))\n",
        "    elif p.executable_code:\n",
        "        display(Markdown(f\"```python\\n{p.executable_code.code}\\n```\"))\n",
        "    elif p.inline_data:\n",
        "        display(Image(data=p.inline_data.data, width=800, format=\"png\"))\n"
      ]
    },
    {
      "cell_type": "markdown",
      "id": "151e3b5f",
      "metadata": {
        "id": "151e3b5f"
      },
      "source": [
        "## !! Exercise: Data Analysis with Code Execution !!\n",
        "\n",
        "Combine Google Search and Code Execution tools to find real-world data and then analyze or visualize it using Python code generated and executed by Gemini.\n",
        "\n",
        "Tasks:\n",
        "- Define a prompt that requires both searching for information and then processing/visualizing that information. For example: \"Search for the population of the 5 largest cities in the world and create a bar chart of their populations.\"\n",
        "- Create a `types.Tool` for code execution: `code_execution_tool = types.Tool(code_execution={})`.\n",
        "- Create a `types.Tool` for Google Search: `google_search_tool = types.Tool(google_search=types.GoogleSearch())`.\n",
        "- Call `client.models.generate_content()`:\n",
        "- Iterate through the `response.candidates[0].content.parts` and display the parts."
      ]
    },
    {
      "cell_type": "code",
      "execution_count": null,
      "id": "a0280253",
      "metadata": {
        "id": "a0280253",
        "outputId": "81facab6-0d55-4c04-b076-b3555aec9f1d",
        "colab": {
          "base_uri": "https://localhost:8080/",
          "height": 1000
        }
      },
      "outputs": [
        {
          "output_type": "display_data",
          "data": {
            "text/plain": [
              "<IPython.core.display.Markdown object>"
            ],
            "text/markdown": "```python\nconcise_search(\"top 10 VC funded companies 2024\")\n\n```"
          },
          "metadata": {}
        },
        {
          "output_type": "display_data",
          "data": {
            "text/plain": [
              "<IPython.core.display.Markdown object>"
            ],
            "text/markdown": "Here are the top VC-funded companies identified from 2024. Please note that comprehensive data for 2025 is not yet available, as the year is still ongoing, and funding information typically becomes public later. The list focuses on 2024, where several significant funding rounds occurred, primarily driven by investments in Artificial Intelligence.\n\nBased on the search results, here are 9 companies that secured the largest VC fundings in 2024 (summing up multiple rounds for a single company within the year):\n\n1.  **xAI**: $12.0 billion (May 2024, December 2024)\n2.  **Databricks**: $10.0 billion (December 2024)\n3.  **Vantage Data Center**: $9.2 billion (January 2024, June 2024)\n4.  **Anthropic**: $6.75 billion (March 2024, November 2024)\n5.  **OpenAI**: $6.6 billion (October 2024)\n6.  **G42**: $1.5 billion (April 2024)\n7.  **Anduril Industries**: $1.5 billion (August 2024)\n8.  **CoreWeave**: $1.1 billion (May 2024)\n9.  **Xaira Therapeutics**: $1.0 billion (April 2024)\n\nNow, I will create a bar chart to visualize this data.\n\n"
          },
          "metadata": {}
        },
        {
          "output_type": "display_data",
          "data": {
            "text/plain": [
              "<IPython.core.display.Markdown object>"
            ],
            "text/markdown": "```python\nimport matplotlib.pyplot as plt\nimport pandas as pd\n\ncompanies_data = [\n    {\"name\": \"xAI\", \"date\": \"May & Dec 2024\", \"funding_billion\": 12.0},\n    {\"name\": \"Databricks\", \"date\": \"Dec 2024\", \"funding_billion\": 10.0},\n    {\"name\": \"Vantage Data Center\", \"date\": \"Jan & June 2024\", \"funding_billion\": 9.2},\n    {\"name\": \"Anthropic\", \"date\": \"Mar & Nov 2024\", \"funding_billion\": 6.75},\n    {\"name\": \"OpenAI\", \"date\": \"Oct 2024\", \"funding_billion\": 6.6},\n    {\"name\": \"G42\", \"date\": \"Apr 2024\", \"funding_billion\": 1.5},\n    {\"name\": \"Anduril Industries\", \"date\": \"Aug 2024\", \"funding_billion\": 1.5},\n    {\"name\": \"CoreWeave\", \"date\": \"May 2024\", \"funding_billion\": 1.1},\n    {\"name\": \"Xaira Therapeutics\", \"date\": \"Apr 2024\", \"funding_billion\": 1.0},\n]\n\ndf = pd.DataFrame(companies_data)\n\n# Sort by funding for better visualization\ndf = df.sort_values(by=\"funding_billion\", ascending=False)\n\nplt.figure(figsize=(12, 8))\nbars = plt.bar(df[\"name\"], df[\"funding_billion\"], color='skyblue')\nplt.xlabel(\"Company Name\")\nplt.ylabel(\"Funding (Billion USD)\")\nplt.title(\"Top VC Funded Companies in 2024 (by total funding)\")\nplt.xticks(rotation=45, ha=\"right\") # Rotate labels for better readability\nplt.grid(axis='y', linestyle='--', alpha=0.7)\n\n# Add funding labels on top of the bars\nfor bar in bars:\n    yval = bar.get_height()\n    plt.text(bar.get_x() + bar.get_width()/2, yval + 0.1, f'${yval:.1f}B', ha='center', va='bottom')\n\nplt.tight_layout()\nplt.show()\n```"
          },
          "metadata": {}
        },
        {
          "output_type": "display_data",
          "data": {
            "image/png": "[encoded data removed]",
            "text/plain": [
              "<IPython.core.display.Image object>"
            ]
          },
          "metadata": {
            "image/png": {
              "width": 800
            }
          }
        },
        {
          "output_type": "display_data",
          "data": {
            "text/plain": [
              "<IPython.core.display.Markdown object>"
            ],
            "text/markdown": "The bar chart above displays the top VC-funded companies in 2024, based on the total funding they secured. As comprehensive data for 2025 is not yet available, the chart focuses on the significant funding rounds observed in 2024.\n\n**Top VC Funded Companies in 2024 (by total funding):**\n\n*   **xAI:** $12.0 billion (May & December 2024)\n*   **Databricks:** $10.0 billion (December 2024)\n*   **Vantage Data Center:** $9.2 billion (January & June 2024)\n*   **Anthropic:** $6.75 billion (March & November 2024)\n*   **OpenAI:** $6.6 billion (October 2024)\n*   **G42:** $1.5 billion (April 2024)\n*   **Anduril Industries:** $1.5 billion (August 2024)\n*   **CoreWeave:** $1.1 billion (May 2024)\n*   **Xaira Therapeutics:** $1.0 billion (April 2024)"
          },
          "metadata": {}
        }
      ],
      "source": [
        "# TODO:\n",
        "# Define Google Search tool\n",
        "google_search_tool = types.Tool(google_search=types.GoogleSearch())\n",
        "code_execution_tool = types.Tool(code_execution={})\n",
        "\n",
        "# Current events query\n",
        "response = client.models.generate_content(\n",
        "    model=MODEL_ID,\n",
        "    contents=\"What the top 10 VC funded companies from 2024-2025? Gather the name, date and funding. Create a bar chart showing the 10 VC funded companies from 2024-2025. Use matplotlib\",\n",
        "    config=types.GenerateContentConfig(\n",
        "        tools=[google_search_tool,code_execution_tool ],\n",
        "    )\n",
        ")\n",
        "\n",
        "\n",
        "for p in response.candidates[0].content.parts:\n",
        "    if p.text:\n",
        "        display(Markdown(p.text))\n",
        "    elif p.executable_code:\n",
        "        display(Markdown(f\"```python\\n{p.executable_code.code}\\n```\"))\n",
        "    elif p.inline_data:\n",
        "        display(Image(data=p.inline_data.data, width=800, format=\"png\"))"
      ]
    },
    {
      "cell_type": "code",
      "source": [
        "%pip install gitingest\n",
        "\n"
      ],
      "metadata": {
        "collapsed": true,
        "id": "-GRs2L0C6kMl",
        "outputId": "7ab8e3db-b664-41b2-9f9f-91eb552573c7",
        "colab": {
          "base_uri": "https://localhost:8080/"
        }
      },
      "id": "-GRs2L0C6kMl",
      "execution_count": 1,
      "outputs": [
        {
          "output_type": "stream",
          "name": "stdout",
          "text": [
            "Collecting gitingest\n",
            "  Downloading gitingest-0.1.5-py3-none-any.whl.metadata (11 kB)\n",
            "Requirement already satisfied: click>=8.0.0 in /usr/local/lib/python3.11/dist-packages (from gitingest) (8.2.1)\n",
            "Requirement already satisfied: fastapi>=0.109.1 in /usr/local/lib/python3.11/dist-packages (from fastapi[standard]>=0.109.1->gitingest) (0.116.1)\n",
            "Requirement already satisfied: pydantic in /usr/local/lib/python3.11/dist-packages (from gitingest) (2.11.7)\n",
            "Collecting python-dotenv (from gitingest)\n",
            "  Downloading python_dotenv-1.1.1-py3-none-any.whl.metadata (24 kB)\n",
            "Collecting slowapi (from gitingest)\n",
            "  Downloading slowapi-0.1.9-py3-none-any.whl.metadata (3.0 kB)\n",
            "Requirement already satisfied: starlette>=0.40.0 in /usr/local/lib/python3.11/dist-packages (from gitingest) (0.47.1)\n",
            "Requirement already satisfied: tiktoken>=0.7.0 in /usr/local/lib/python3.11/dist-packages (from gitingest) (0.9.0)\n",
            "Collecting tomli (from gitingest)\n",
            "  Downloading tomli-2.2.1-cp311-cp311-manylinux_2_17_x86_64.manylinux2014_x86_64.whl.metadata (11 kB)\n",
            "Collecting pathspec>=0.12.1 (from gitingest)\n",
            "  Downloading pathspec-0.12.1-py3-none-any.whl.metadata (21 kB)\n",
            "Requirement already satisfied: uvicorn>=0.11.7 in /usr/local/lib/python3.11/dist-packages (from gitingest) (0.35.0)\n",
            "Requirement already satisfied: typing-extensions>=4.8.0 in /usr/local/lib/python3.11/dist-packages (from fastapi>=0.109.1->fastapi[standard]>=0.109.1->gitingest) (4.14.1)\n",
            "Collecting fastapi-cli>=0.0.8 (from fastapi-cli[standard]>=0.0.8; extra == \"standard\"->fastapi[standard]>=0.109.1->gitingest)\n",
            "  Downloading fastapi_cli-0.0.8-py3-none-any.whl.metadata (6.3 kB)\n",
            "Requirement already satisfied: httpx>=0.23.0 in /usr/local/lib/python3.11/dist-packages (from fastapi[standard]>=0.109.1->gitingest) (0.28.1)\n",
            "Requirement already satisfied: jinja2>=3.1.5 in /usr/local/lib/python3.11/dist-packages (from fastapi[standard]>=0.109.1->gitingest) (3.1.6)\n",
            "Requirement already satisfied: python-multipart>=0.0.18 in /usr/local/lib/python3.11/dist-packages (from fastapi[standard]>=0.109.1->gitingest) (0.0.20)\n",
            "Collecting email-validator>=2.0.0 (from fastapi[standard]>=0.109.1->gitingest)\n",
            "  Downloading email_validator-2.2.0-py3-none-any.whl.metadata (25 kB)\n",
            "Requirement already satisfied: annotated-types>=0.6.0 in /usr/local/lib/python3.11/dist-packages (from pydantic->gitingest) (0.7.0)\n",
            "Requirement already satisfied: pydantic-core==2.33.2 in /usr/local/lib/python3.11/dist-packages (from pydantic->gitingest) (2.33.2)\n",
            "Requirement already satisfied: typing-inspection>=0.4.0 in /usr/local/lib/python3.11/dist-packages (from pydantic->gitingest) (0.4.1)\n",
            "Requirement already satisfied: anyio<5,>=3.6.2 in /usr/local/lib/python3.11/dist-packages (from starlette>=0.40.0->gitingest) (4.9.0)\n",
            "Requirement already satisfied: regex>=2022.1.18 in /usr/local/lib/python3.11/dist-packages (from tiktoken>=0.7.0->gitingest) (2024.11.6)\n",
            "Requirement already satisfied: requests>=2.26.0 in /usr/local/lib/python3.11/dist-packages (from tiktoken>=0.7.0->gitingest) (2.32.3)\n",
            "Requirement already satisfied: h11>=0.8 in /usr/local/lib/python3.11/dist-packages (from uvicorn>=0.11.7->gitingest) (0.16.0)\n",
            "Collecting limits>=2.3 (from slowapi->gitingest)\n",
            "  Downloading limits-5.4.0-py3-none-any.whl.metadata (10 kB)\n",
            "Requirement already satisfied: idna>=2.8 in /usr/local/lib/python3.11/dist-packages (from anyio<5,>=3.6.2->starlette>=0.40.0->gitingest) (3.10)\n",
            "Requirement already satisfied: sniffio>=1.1 in /usr/local/lib/python3.11/dist-packages (from anyio<5,>=3.6.2->starlette>=0.40.0->gitingest) (1.3.1)\n",
            "Collecting dnspython>=2.0.0 (from email-validator>=2.0.0->fastapi[standard]>=0.109.1->gitingest)\n",
            "  Downloading dnspython-2.7.0-py3-none-any.whl.metadata (5.8 kB)\n",
            "Requirement already satisfied: typer>=0.15.1 in /usr/local/lib/python3.11/dist-packages (from fastapi-cli>=0.0.8->fastapi-cli[standard]>=0.0.8; extra == \"standard\"->fastapi[standard]>=0.109.1->gitingest) (0.16.0)\n",
            "Collecting rich-toolkit>=0.14.8 (from fastapi-cli>=0.0.8->fastapi-cli[standard]>=0.0.8; extra == \"standard\"->fastapi[standard]>=0.109.1->gitingest)\n",
            "  Downloading rich_toolkit-0.14.8-py3-none-any.whl.metadata (999 bytes)\n",
            "Collecting fastapi-cloud-cli>=0.1.1 (from fastapi-cli[standard]>=0.0.8; extra == \"standard\"->fastapi[standard]>=0.109.1->gitingest)\n",
            "  Downloading fastapi_cloud_cli-0.1.4-py3-none-any.whl.metadata (3.2 kB)\n",
            "Requirement already satisfied: certifi in /usr/local/lib/python3.11/dist-packages (from httpx>=0.23.0->fastapi[standard]>=0.109.1->gitingest) (2025.7.14)\n",
            "Requirement already satisfied: httpcore==1.* in /usr/local/lib/python3.11/dist-packages (from httpx>=0.23.0->fastapi[standard]>=0.109.1->gitingest) (1.0.9)\n",
            "Requirement already satisfied: MarkupSafe>=2.0 in /usr/local/lib/python3.11/dist-packages (from jinja2>=3.1.5->fastapi[standard]>=0.109.1->gitingest) (3.0.2)\n",
            "Collecting deprecated>=1.2 (from limits>=2.3->slowapi->gitingest)\n",
            "  Downloading Deprecated-1.2.18-py2.py3-none-any.whl.metadata (5.7 kB)\n",
            "Requirement already satisfied: packaging<26,>=21 in /usr/local/lib/python3.11/dist-packages (from limits>=2.3->slowapi->gitingest) (25.0)\n",
            "Requirement already satisfied: charset-normalizer<4,>=2 in /usr/local/lib/python3.11/dist-packages (from requests>=2.26.0->tiktoken>=0.7.0->gitingest) (3.4.2)\n",
            "Requirement already satisfied: urllib3<3,>=1.21.1 in /usr/local/lib/python3.11/dist-packages (from requests>=2.26.0->tiktoken>=0.7.0->gitingest) (2.4.0)\n",
            "Collecting httptools>=0.6.3 (from uvicorn[standard]>=0.12.0; extra == \"standard\"->fastapi[standard]>=0.109.1->gitingest)\n",
            "  Downloading httptools-0.6.4-cp311-cp311-manylinux_2_5_x86_64.manylinux1_x86_64.manylinux_2_17_x86_64.manylinux2014_x86_64.whl.metadata (3.6 kB)\n",
            "Requirement already satisfied: pyyaml>=5.1 in /usr/local/lib/python3.11/dist-packages (from uvicorn[standard]>=0.12.0; extra == \"standard\"->fastapi[standard]>=0.109.1->gitingest) (6.0.2)\n",
            "Collecting uvloop>=0.15.1 (from uvicorn[standard]>=0.12.0; extra == \"standard\"->fastapi[standard]>=0.109.1->gitingest)\n",
            "  Downloading uvloop-0.21.0-cp311-cp311-manylinux_2_17_x86_64.manylinux2014_x86_64.whl.metadata (4.9 kB)\n",
            "Collecting watchfiles>=0.13 (from uvicorn[standard]>=0.12.0; extra == \"standard\"->fastapi[standard]>=0.109.1->gitingest)\n",
            "  Downloading watchfiles-1.1.0-cp311-cp311-manylinux_2_17_x86_64.manylinux2014_x86_64.whl.metadata (4.9 kB)\n",
            "Requirement already satisfied: websockets>=10.4 in /usr/local/lib/python3.11/dist-packages (from uvicorn[standard]>=0.12.0; extra == \"standard\"->fastapi[standard]>=0.109.1->gitingest) (15.0.1)\n",
            "Requirement already satisfied: wrapt<2,>=1.10 in /usr/local/lib/python3.11/dist-packages (from deprecated>=1.2->limits>=2.3->slowapi->gitingest) (1.17.2)\n",
            "Collecting rignore>=0.5.1 (from fastapi-cloud-cli>=0.1.1->fastapi-cli[standard]>=0.0.8; extra == \"standard\"->fastapi[standard]>=0.109.1->gitingest)\n",
            "  Downloading rignore-0.6.2-cp311-cp311-manylinux_2_17_x86_64.manylinux2014_x86_64.whl.metadata (3.8 kB)\n",
            "Requirement already satisfied: sentry-sdk>=2.20.0 in /usr/local/lib/python3.11/dist-packages (from fastapi-cloud-cli>=0.1.1->fastapi-cli[standard]>=0.0.8; extra == \"standard\"->fastapi[standard]>=0.109.1->gitingest) (2.33.0)\n",
            "Requirement already satisfied: rich>=13.7.1 in /usr/local/lib/python3.11/dist-packages (from rich-toolkit>=0.14.8->fastapi-cli>=0.0.8->fastapi-cli[standard]>=0.0.8; extra == \"standard\"->fastapi[standard]>=0.109.1->gitingest) (13.9.4)\n",
            "Requirement already satisfied: shellingham>=1.3.0 in /usr/local/lib/python3.11/dist-packages (from typer>=0.15.1->fastapi-cli>=0.0.8->fastapi-cli[standard]>=0.0.8; extra == \"standard\"->fastapi[standard]>=0.109.1->gitingest) (1.5.4)\n",
            "Requirement already satisfied: markdown-it-py>=2.2.0 in /usr/local/lib/python3.11/dist-packages (from rich>=13.7.1->rich-toolkit>=0.14.8->fastapi-cli>=0.0.8->fastapi-cli[standard]>=0.0.8; extra == \"standard\"->fastapi[standard]>=0.109.1->gitingest) (3.0.0)\n",
            "Requirement already satisfied: pygments<3.0.0,>=2.13.0 in /usr/local/lib/python3.11/dist-packages (from rich>=13.7.1->rich-toolkit>=0.14.8->fastapi-cli>=0.0.8->fastapi-cli[standard]>=0.0.8; extra == \"standard\"->fastapi[standard]>=0.109.1->gitingest) (2.19.2)\n",
            "Requirement already satisfied: mdurl~=0.1 in /usr/local/lib/python3.11/dist-packages (from markdown-it-py>=2.2.0->rich>=13.7.1->rich-toolkit>=0.14.8->fastapi-cli>=0.0.8->fastapi-cli[standard]>=0.0.8; extra == \"standard\"->fastapi[standard]>=0.109.1->gitingest) (0.1.2)\n",
            "Downloading gitingest-0.1.5-py3-none-any.whl (46 kB)\n",
            "\u001b[2K   \u001b[90m━━━━━━━━━━━━━━━━━━━━━━━━━━━━━━━━━━━━━━━━\u001b[0m \u001b[32m46.9/46.9 kB\u001b[0m \u001b[31m2.7 MB/s\u001b[0m eta \u001b[36m0:00:00\u001b[0m\n",
            "\u001b[?25hDownloading pathspec-0.12.1-py3-none-any.whl (31 kB)\n",
            "Downloading python_dotenv-1.1.1-py3-none-any.whl (20 kB)\n",
            "Downloading slowapi-0.1.9-py3-none-any.whl (14 kB)\n",
            "Downloading tomli-2.2.1-cp311-cp311-manylinux_2_17_x86_64.manylinux2014_x86_64.whl (236 kB)\n",
            "\u001b[2K   \u001b[90m━━━━━━━━━━━━━━━━━━━━━━━━━━━━━━━━━━━━━━━━\u001b[0m \u001b[32m236.0/236.0 kB\u001b[0m \u001b[31m5.9 MB/s\u001b[0m eta \u001b[36m0:00:00\u001b[0m\n",
            "\u001b[?25hDownloading email_validator-2.2.0-py3-none-any.whl (33 kB)\n",
            "Downloading fastapi_cli-0.0.8-py3-none-any.whl (10 kB)\n",
            "Downloading limits-5.4.0-py3-none-any.whl (60 kB)\n",
            "\u001b[2K   \u001b[90m━━━━━━━━━━━━━━━━━━━━━━━━━━━━━━━━━━━━━━━━\u001b[0m \u001b[32m61.0/61.0 kB\u001b[0m \u001b[31m4.9 MB/s\u001b[0m eta \u001b[36m0:00:00\u001b[0m\n",
            "\u001b[?25hDownloading Deprecated-1.2.18-py2.py3-none-any.whl (10.0 kB)\n",
            "Downloading dnspython-2.7.0-py3-none-any.whl (313 kB)\n",
            "\u001b[2K   \u001b[90m━━━━━━━━━━━━━━━━━━━━━━━━━━━━━━━━━━━━━━━━\u001b[0m \u001b[32m313.6/313.6 kB\u001b[0m \u001b[31m10.2 MB/s\u001b[0m eta \u001b[36m0:00:00\u001b[0m\n",
            "\u001b[?25hDownloading fastapi_cloud_cli-0.1.4-py3-none-any.whl (18 kB)\n",
            "Downloading httptools-0.6.4-cp311-cp311-manylinux_2_5_x86_64.manylinux1_x86_64.manylinux_2_17_x86_64.manylinux2014_x86_64.whl (459 kB)\n",
            "\u001b[2K   \u001b[90m━━━━━━━━━━━━━━━━━━━━━━━━━━━━━━━━━━━━━━━━\u001b[0m \u001b[32m459.8/459.8 kB\u001b[0m \u001b[31m30.2 MB/s\u001b[0m eta \u001b[36m0:00:00\u001b[0m\n",
            "\u001b[?25hDownloading rich_toolkit-0.14.8-py3-none-any.whl (24 kB)\n",
            "Downloading uvloop-0.21.0-cp311-cp311-manylinux_2_17_x86_64.manylinux2014_x86_64.whl (4.0 MB)\n",
            "\u001b[2K   \u001b[90m━━━━━━━━━━━━━━━━━━━━━━━━━━━━━━━━━━━━━━━━\u001b[0m \u001b[32m4.0/4.0 MB\u001b[0m \u001b[31m55.9 MB/s\u001b[0m eta \u001b[36m0:00:00\u001b[0m\n",
            "\u001b[?25hDownloading watchfiles-1.1.0-cp311-cp311-manylinux_2_17_x86_64.manylinux2014_x86_64.whl (453 kB)\n",
            "\u001b[2K   \u001b[90m━━━━━━━━━━━━━━━━━━━━━━━━━━━━━━━━━━━━━━━━\u001b[0m \u001b[32m453.1/453.1 kB\u001b[0m \u001b[31m26.9 MB/s\u001b[0m eta \u001b[36m0:00:00\u001b[0m\n",
            "\u001b[?25hDownloading rignore-0.6.2-cp311-cp311-manylinux_2_17_x86_64.manylinux2014_x86_64.whl (950 kB)\n",
            "\u001b[2K   \u001b[90m━━━━━━━━━━━━━━━━━━━━━━━━━━━━━━━━━━━━━━━━\u001b[0m \u001b[32m950.5/950.5 kB\u001b[0m \u001b[31m43.9 MB/s\u001b[0m eta \u001b[36m0:00:00\u001b[0m\n",
            "\u001b[?25hInstalling collected packages: uvloop, tomli, rignore, python-dotenv, pathspec, httptools, dnspython, deprecated, watchfiles, limits, email-validator, slowapi, rich-toolkit, fastapi-cloud-cli, fastapi-cli, gitingest\n",
            "Successfully installed deprecated-1.2.18 dnspython-2.7.0 email-validator-2.2.0 fastapi-cli-0.0.8 fastapi-cloud-cli-0.1.4 gitingest-0.1.5 httptools-0.6.4 limits-5.4.0 pathspec-0.12.1 python-dotenv-1.1.1 rich-toolkit-0.14.8 rignore-0.6.2 slowapi-0.1.9 tomli-2.2.1 uvloop-0.21.0 watchfiles-1.1.0\n"
          ]
        }
      ]
    },
    {
      "cell_type": "code",
      "source": [
        "from gitingest import ingest_async\n",
        "\n",
        "summary, tree, content = await ingest_async(\"https://github.com/rashedulkabir730/ETL-Complaints-Violations\")"
      ],
      "metadata": {
        "id": "cr6W0Sn96tH4"
      },
      "id": "cr6W0Sn96tH4",
      "execution_count": 4,
      "outputs": []
    },
    {
      "cell_type": "code",
      "source": [
        "prompt = f\"\"\"Explain this project as if you were in a data analyst interview. Go through the entire porject process end to end. :\n",
        "\n",
        "Code:\n",
        "{content}\n",
        "\"\"\"\n",
        "\n",
        "chat = client.chats.create(model=MODEL_ID)\n",
        "\n",
        "response = chat.send_message(prompt)\n",
        "print(response.text)"
      ],
      "metadata": {
        "id": "tmbP9cDM6zVz",
        "outputId": "7e6affa4-17b4-40ac-8cd9-060039abbaab",
        "colab": {
          "base_uri": "https://localhost:8080/"
        }
      },
      "id": "tmbP9cDM6zVz",
      "execution_count": 5,
      "outputs": [
        {
          "output_type": "stream",
          "name": "stdout",
          "text": [
            "\"Good morning! I'm excited to share details about my ETL Complaints and Violations project. This project was born out of a common challenge: a pre-existing Streamlit web application that struggled with performance due to directly processing large datasets on the fly. My goal was to significantly improve the application's responsiveness and build a robust, automated data pipeline to ensure data quality and freshness.\n",
            "\n",
            "Let me walk you through the entire process, end-to-end:\n",
            "\n",
            "### 1. Problem Statement & Project Goal\n",
            "\n",
            "The core problem was the **performance bottleneck** in an existing Streamlit application. It was pulling large datasets from NYC Open Data APIs directly, leading to slow load times and a poor user experience. As a data professional, I immediately recognized the need for a more structured data engineering approach to manage, transform, and serve this data efficiently.\n",
            "\n",
            "My objective was to **enhance the application's performance** by implementing data engineering best practices. This involved:\n",
            "*   Building a **scalable ETL pipeline** to extract, transform, and load data.\n",
            "*   **Automating** this pipeline for data freshness.\n",
            "*   **Optimizing data delivery** to the Streamlit app using caching.\n",
            "*   Ultimately, providing **clean, consistent, and fast-access data** for analysis and visualization.\n",
            "\n",
            "### 2. Data Source Identification & Understanding\n",
            "\n",
            "The project utilized two primary datasets from NYC Open Data APIs:\n",
            "*   **NYC Department of Buildings Complaints:** Contains details about building complaints.\n",
            "*   **NYC Department of Buildings Violations:** Contains information on building violations.\n",
            "\n",
            "These datasets are quite large, with millions of records, which underscored the importance of efficient data handling techniques. I needed to understand their schemas to plan for transformation.\n",
            "\n",
            "### 3. Data Extraction (E of ETL)\n",
            "\n",
            "*   **Tools:** Python, `sodapy` library (specifically for Socrata API integration), and `requests` for the other API. `boto3` for AWS S3 interaction.\n",
            "*   **Process:**\n",
            "    *   I developed a Python script (`extract_data` function in `airflow_dag.py`) to programmatically fetch data from both APIs.\n",
            "    *   To handle the large volume, I implemented **chunking**, fetching data in manageable batches (e.g., 50,000 records at a time) rather than attempting to load everything at once. This prevented memory issues and allowed for more resilient extraction.\n",
            "    *   The raw data, once extracted, was temporarily stored locally on the EC2 instance where Airflow was running. In a more distributed setup, I might push raw data directly to a 'raw' S3 bucket for data lake purposes.\n",
            "\n",
            "### 4. Data Transformation (T of ETL)\n",
            "\n",
            "*   **Tools:** Pandas for all data manipulation.\n",
            "*   **Process:**\n",
            "    *   The `transform_data` function in the Airflow DAG took the locally stored raw CSVs as input.\n",
            "    *   **Common Transformations for both Complaints and Violations:**\n",
            "        *   **Address Standardization:** Created a `full_add` column by concatenating `house_number` and `house_street`. This standardized address format is crucial for filtering and analysis in the dashboard.\n",
            "        *   **Date Handling:** Converted relevant date columns (e.g., `date_entered` for complaints, `issue_date` for violations) to datetime objects and extracted `Year`, `Month`, `Day` for time-series analysis and filtering. I did encounter some `DtypeWarning` for mixed types during initial loading, which I addressed by specifying `low_memory=False` or explicit type conversions in the loading/processing steps. Some early violation dates also showed up as `1970-01-01`, indicating potential upstream data quality issues or default epoch values, which I noted.\n",
            "        *   **Column Selection & Dropping:** Identified and dropped numerous columns that were either redundant, irrelevant for the dashboard's scope, or contained sensitive information not needed for public display (e.g., `bin`, `community_board`, various disposition codes). This reduced data size and simplified the datasets for downstream use.\n",
            "        *   **Missing Value Handling:** Specifically for violations, I filled `description` NaNs with \"Violation Remarks not provided\" to ensure user-friendly output.\n",
            "    *   **Data Enrichment (Separate step initially):** This was a key refinement! Initially, the complaint `complaint_category` was just a code (e.g., '5', '29'). For better user understanding, I leveraged a separate CSV file (`expl.csv`) that provided rich, human-readable descriptions and a 'PRIORITY' level for each complaint category. I merged this `expl.csv` with the transformed complaints data using `complaint_category` as the key. This step significantly improved the analytical value of the complaint data in the dashboard by adding context. This specific step was developed in `cleaning.ipynb` and then manually re-uploaded to S3, with a plan to integrate it into the Airflow DAG for full automation in future iterations.\n",
            "    *   The transformed and enriched data (as CSVs) was then uploaded to a dedicated AWS S3 bucket named `transf-dob`.\n",
            "\n",
            "### 5. Data Orchestration & Automation\n",
            "\n",
            "*   **Tool:** Apache Airflow, deployed on an AWS EC2 instance.\n",
            "*   **Why Airflow:** Airflow was chosen to automate the entire ETL process. It provides a robust framework for defining, scheduling, and monitoring data pipelines. This ensures that the data driving the dashboard is always fresh and reliable without manual intervention.\n",
            "*   **DAG Structure (`cam_rev_dag`):**\n",
            "    *   `tsk_extract_data`: PythonOperator to run the `extract_data` function.\n",
            "    *   `tsk_transform_data`: PythonOperator to run the `transform_data` function, pulling outputs from the extract step via XComs.\n",
            "    *   `tsk_load_complaints_to_s3` & `tsk_load_violations_to_s3`: BashOperators to move the final transformed CSVs from the local file system to the designated S3 bucket. (While the `transform_data` function already uses `s3_client.put_object`, these BashOperators illustrate the intent of ensuring the final, transformed files are in S3 for consumption.)\n",
            "*   **Dependencies:** The DAG clearly defines the flow: extraction must complete before transformation, and transformation must complete before loading to S3. This ensures data integrity.\n",
            "*   **Scheduling:** The DAG is configured with `start_date` and `retries` to handle potential failures, ensuring robust operations.\n",
            "\n",
            "### 6. Data Loading & Consumption (for Analytics)\n",
            "\n",
            "*   **Final Destination:** The cleaned and transformed datasets reside in the `transf-dob` S3 bucket. S3 was chosen for its scalability, cost-effectiveness, and easy accessibility from other AWS services and applications like Streamlit.\n",
            "*   **Consumption Layer:** The Streamlit web application.\n",
            "\n",
            "### 7. Data Visualization & Performance Optimization\n",
            "\n",
            "*   **Tools:** Streamlit for the interactive dashboard, Plotly Express for dynamic visualizations.\n",
            "*   **Dashboard Features:**\n",
            "    *   **Interactive Filtering:** Users can select a specific building address from a dropdown, allowing them to focus on complaints and violations pertinent to that location.\n",
            "    *   **Time-Series Analysis:** Bar charts visualize the number of complaints and violations over time (by year), providing trends.\n",
            "    *   **Categorical Breakdowns:** Violations are categorized by `violation_category` and `violation_type`. Complaints are broken down by `PRIORITY` and `COMPLAINT CATEGORY DESCRIPTION` (from the merged `expl.csv`), giving clear context to the issues.\n",
            "    *   **Detailed Descriptions:** Dynamic text displays provide specific violation and complaint descriptions for the selected address, enhancing user understanding.\n",
            "*   **Performance Optimization (Crucial Part!):**\n",
            "    *   I implemented **caching** using Streamlit's `@st.cache_data` decorator on the `load_data` function. This is vital because the dashboard loads large CSVs from S3. With caching, the data is loaded and processed only once (or when its underlying source changes), drastically reducing load times for subsequent user interactions and filter changes, providing a much smoother user experience.\n",
            "\n",
            "### Technologies Used:\n",
            "\n",
            "*   **Cloud:** AWS S3 (for data storage), AWS EC2 (for hosting Airflow).\n",
            "*   **Orchestration:** Apache Airflow.\n",
            "*   **Programming:** Python.\n",
            "*   **Data Manipulation:** Pandas.\n",
            "*   **Data Visualization/Web App:** Streamlit, Plotly Express.\n",
            "*   **API Interaction:** `sodapy`, `requests`.\n",
            "*   **Environment Management:** `python-dotenv`.\n",
            "\n",
            "### Challenges Faced & Solutions:\n",
            "\n",
            "1.  **Large Data Volume:** Handled by implementing **chunking** during API extraction to prevent memory overflows and utilizing S3 for scalable storage.\n",
            "2.  **API Inconsistencies:** The two NYC Open Data APIs had different access methods (one via `sodapy`, another requiring direct `requests` and `StringIO`), necessitating flexible extraction logic.\n",
            "3.  **Data Quality & Enrichment:**\n",
            "    *   Mixed data types and initial date parsing issues were addressed with Pandas' type conversion (`pd.to_datetime`, `low_memory=False`).\n",
            "    *   The `expl.csv` file was a critical external source for adding meaningful descriptions to complaint codes. This demonstrated my ability to enrich data from multiple sources. While this step was initially performed manually in a Jupyter notebook and then re-uploaded, the README explicitly states it will be automated in the DAG in future, showing foresight for a fully automated pipeline.\n",
            "4.  **Application Performance:** This was directly tackled by implementing `st.cache_data`, which significantly reduced data load times and re-computation costs for the interactive dashboard.\n",
            "\n",
            "### Key Learnings & Takeaways:\n",
            "\n",
            "This project solidified my understanding of building end-to-end data pipelines. I gained hands-on experience with:\n",
            "*   Designing and implementing a robust ETL process for large datasets.\n",
            "*   Automating workflows using Apache Airflow, understanding its scheduling, task dependencies, and error handling capabilities.\n",
            "*   Leveraging cloud services (AWS S3, EC2) for scalable and cost-effective data storage and infrastructure.\n",
            "*   Crucially, **optimizing application performance through intelligent caching strategies**, directly impacting user experience.\n",
            "*   The importance of data cleaning and enrichment to transform raw data into a valuable asset for analytical applications.\n",
            "\n",
            "This project truly demonstrates my ability to bridge the gap between raw data, robust engineering, and meaningful data visualization and analysis.\"\n"
          ]
        }
      ]
    },
    {
      "cell_type": "code",
      "source": [],
      "metadata": {
        "id": "GLyUIn2C6zZK"
      },
      "id": "GLyUIn2C6zZK",
      "execution_count": null,
      "outputs": []
    },
    {
      "cell_type": "code",
      "source": [],
      "metadata": {
        "id": "ytjVr6Oy6zcS"
      },
      "id": "ytjVr6Oy6zcS",
      "execution_count": null,
      "outputs": []
    },
    {
      "cell_type": "code",
      "source": [],
      "metadata": {
        "id": "k0DeOVNM6zfJ"
      },
      "id": "k0DeOVNM6zfJ",
      "execution_count": null,
      "outputs": []
    },
    {
      "cell_type": "code",
      "source": [],
      "metadata": {
        "id": "XnRmPDU_6ziB"
      },
      "id": "XnRmPDU_6ziB",
      "execution_count": null,
      "outputs": []
    },
    {
      "cell_type": "code",
      "source": [],
      "metadata": {
        "id": "KXJwOtFf6zko"
      },
      "id": "KXJwOtFf6zko",
      "execution_count": null,
      "outputs": []
    },
    {
      "cell_type": "code",
      "source": [],
      "metadata": {
        "id": "Fw9NUXkS6zne"
      },
      "id": "Fw9NUXkS6zne",
      "execution_count": null,
      "outputs": []
    },
    {
      "cell_type": "markdown",
      "id": "ff79425f",
      "metadata": {
        "id": "ff79425f"
      },
      "source": [
        "## Recap & Next Steps\n",
        "\n",
        "**What You've Learned:**\n",
        "- Structured outputs using Pydantic models for reliable data extraction and validation\n",
        "- Function calling to integrate external APIs, databases, and custom business logic\n",
        "- Native tools including Google Search, URL context analysis, and code execution\n",
        "- Combining multiple tools for comprehensive workflows and complex problem-solving\n",
        "\n",
        "**Key Takeaways:**\n",
        "- Structured outputs ensure consistent data formats for downstream applications\n",
        "- Function calling enables seamless integration with external systems and real-time data\n",
        "- Native tools provide powerful capabilities without additional setup or infrastructure\n",
        "- Tool combinations unlock sophisticated workflows and multi-step problem solving\n",
        "- Proper validation and error handling are crucial for reliable tool interactions\n",
        "\n",
        "**Next Steps:** Continue with [Part 4: Model Context Protocol (MCP)](https://github.com/philschmid/gemini-2.5-ai-engineering-workshop/blob/main/notebooks/04-model-context-protocol-mcp.ipynb) [![Open In Colab](https://colab.research.google.com/assets/colab-badge.svg)](https://colab.research.google.com/github/philschmid/gemini-2.5-ai-engineering-workshop/blob/main/notebooks/04-model-context-protocol-mcp.ipynb)\n",
        "\n",
        "**More Resources:**\n",
        "- [Structured Output Documentation](https://ai.google.dev/gemini-api/docs/structured-output?lang=python)\n",
        "- [Function Calling Documentation](https://ai.google.dev/gemini-api/docs/function-calling?lang=python)\n",
        "- [Grounding with Google Search](https://ai.google.dev/gemini-api/docs/grounding)\n",
        "- [URL Context Tool](https://ai.google.dev/gemini-api/docs/url-context)\n",
        "- [Code Execution Documentation](https://ai.google.dev/gemini-api/docs/code-execution)"
      ]
    },
    {
      "cell_type": "code",
      "source": [],
      "metadata": {
        "id": "4k-CEw-i6smS"
      },
      "id": "4k-CEw-i6smS",
      "execution_count": null,
      "outputs": []
    }
  ],
  "metadata": {
    "language_info": {
      "name": "python"
    },
    "colab": {
      "provenance": []
    },
    "kernelspec": {
      "name": "python3",
      "display_name": "Python 3"
    }
  },
  "nbformat": 4,
  "nbformat_minor": 5
}